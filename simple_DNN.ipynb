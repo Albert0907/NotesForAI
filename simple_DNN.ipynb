{
 "cells": [
  {
   "cell_type": "code",
   "execution_count": 1,
   "metadata": {},
   "outputs": [
    {
     "name": "stdout",
     "output_type": "stream",
     "text": [
      "0 [-0.52069354] [ 0.78685331]\n",
      "20 [-0.12236262] [ 0.40859696]\n",
      "40 [ 0.02866492] [ 0.33483848]\n",
      "60 [ 0.07711534] [ 0.31117636]\n",
      "80 [ 0.0926585] [ 0.30358544]\n",
      "100 [ 0.0976448] [ 0.30115023]\n",
      "120 [ 0.09924443] [ 0.30036902]\n",
      "140 [ 0.09975759] [ 0.30011839]\n",
      "160 [ 0.09992224] [ 0.30003798]\n",
      "180 [ 0.09997505] [ 0.3000122]\n",
      "200 [ 0.09999198] [ 0.30000392]\n"
     ]
    }
   ],
   "source": [
    "import tensorflow as tf\n",
    "import numpy as np\n",
    "\n",
    "X_data = np.random.rand(100).astype(np.float32)\n",
    "y_data = X_data*0.1 + 0.3\n",
    "\n",
    "w = tf.Variable(tf.random_uniform([1], -1.0, 1.0))\n",
    "b = tf.Variable(tf.zeros([1]))\n",
    "\n",
    "y = w*X_data + b\n",
    "\n",
    "loss = tf.reduce_mean(tf.square(y-y_data))\n",
    "\n",
    "optimizer = tf.train.GradientDescentOptimizer(0.5)\n",
    "train = optimizer.minimize(loss)\n",
    "\n",
    "init = tf.global_variables_initializer()\n",
    "\n",
    "sess = tf.Session()\n",
    "sess.run(init)\n",
    "\n",
    "for step in range(201):\n",
    "    sess.run(train)\n",
    "    if step % 20 == 0:\n",
    "        print(step, sess.run(w), sess.run(b))"
   ]
  }
 ],
 "metadata": {
  "kernelspec": {
   "display_name": "Python 3",
   "language": "python",
   "name": "python3"
  },
  "language_info": {
   "codemirror_mode": {
    "name": "ipython",
    "version": 3
   },
   "file_extension": ".py",
   "mimetype": "text/x-python",
   "name": "python",
   "nbconvert_exporter": "python",
   "pygments_lexer": "ipython3",
   "version": "3.6.4"
  }
 },
 "nbformat": 4,
 "nbformat_minor": 2
}
